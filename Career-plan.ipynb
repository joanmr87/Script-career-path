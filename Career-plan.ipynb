{
 "cells": [
  {
   "cell_type": "code",
   "execution_count": 5,
   "id": "b0f000f0",
   "metadata": {},
   "outputs": [],
   "source": [
    "import openai\n",
    "\n",
    "\n",
    "openai.api_key  ='sk...'"
   ]
  },
  {
   "cell_type": "code",
   "execution_count": 6,
   "id": "cf0163a8",
   "metadata": {},
   "outputs": [],
   "source": [
    "def get_completion(prompt, model=\"gpt-3.5-turbo\", temperature=0): \n",
    "    messages = [{\"role\": \"user\", \"content\": prompt}]\n",
    "    response = openai.ChatCompletion.create(\n",
    "        model=model,\n",
    "        messages=messages,\n",
    "        temperature=temperature, \n",
    "    )\n",
    "    return response.choices[0].message[\"content\"]"
   ]
  },
  {
   "cell_type": "code",
   "execution_count": 19,
   "id": "23c22856",
   "metadata": {},
   "outputs": [
    {
     "name": "stdout",
     "output_type": "stream",
     "text": [
      "Enter the book name: Continuous delivery\n",
      "Enter the author name: Jez Humble - David Farley\n",
      "Book summary:\n",
      "The step-by-step guide to going live with new software releases faster - reducing risk and delivering more value sooner! * *Fast, simple, repeatable techniques for deploying working code to production in hours or days, not months! *Crafting custom processes that get developers from idea to value faster than ever. *Best practices for everything from source code control to dependency management and in-production tracing. *Common obstacles to rapid release - and pragmatic solutions. In too many organizations, build, testing, and deployment processes can take six months or more. That's simply far too long for today's businesses. But it doesn't have to be that way. It's possible to deploy working code to production in hours or days after development work is complete - and Go Live presents comprehensive processes and techniques for doing so. Written by two of the world's most experienced software project leaders, this book demonstrates how to dramatically increase speed while reducing risk and improving code quality at the same time. The authors cover all facets of build, testing, and deployment, including: configuration management, source code control, release planning, auditing, compliance, integration, build automation, and more. They introduce a wide range of advanced techniques, including inproduction monitoring and tracing, dependency management, and the effective use of virtualization. For each area, they explain the issues, show how to mitigate the risks, and present best practices. Throughout, Go Live focuses on powerful opportunities for individual improvement, clearly and simply explaining skills and techniques so they can be used every day on real projects. With this book's help, any development organization can move from idea to release faster -- and deliver far more value, far more rapidly.\n",
      "Number of pages: 463\n"
     ]
    }
   ],
   "source": [
    "import requests\n",
    "import urllib.parse\n",
    "\n",
    "def search_book(book, author):\n",
    "    # Format the book and author names for use in the API query\n",
    "    book_name = urllib.parse.quote_plus(book)\n",
    "    author_name = urllib.parse.quote_plus(author)\n",
    "    url_search = f'https://www.googleapis.com/books/v1/volumes?q=intitle:{book_name}+inauthor:{author_name}'\n",
    "\n",
    "    # Make the HTTP request to the Google Books API\n",
    "    response = requests.get(url_search)\n",
    "    response.raise_for_status()\n",
    "\n",
    "    # Get the first result from the search\n",
    "    result = response.json()['items'][0]['volumeInfo']\n",
    "    summary = result.get('description', 'No summary available.')\n",
    "    pages = result.get('pageCount', 'No information about number of pages.')\n",
    "\n",
    "    return summary, pages\n",
    "\n",
    "# Prompt the user for the book name and author\n",
    "book_name = input('Enter the book name: ')\n",
    "author_name = input('Enter the author name: ')\n",
    "\n",
    "# Perform the search and get the summary and number of pages\n",
    "book_summary, num_pages = search_book(book_name, author_name)\n",
    "\n",
    "# Print the results\n",
    "print('Book summary:')\n",
    "print(book_summary)\n",
    "print('Number of pages:', num_pages)\n",
    "\n"
   ]
  },
  {
   "cell_type": "code",
   "execution_count": null,
   "id": "e9db12d9",
   "metadata": {},
   "outputs": [],
   "source": []
  },
  {
   "cell_type": "code",
   "execution_count": 23,
   "id": "f1ea31db",
   "metadata": {},
   "outputs": [
    {
     "name": "stdout",
     "output_type": "stream",
     "text": [
      "Book: Continuous delivery\n",
      "Author: Jez Humble - David Farley\n",
      "\n",
      "Mission: Welcome to the Go Live challenge! Your mission, should you choose to accept it, is to deploy working code to production in hours or days, not months. Using the fast, simple, and repeatable techniques outlined in the book, you will craft custom processes that get developers from idea to value faster than ever before. \n",
      "\n",
      "Your challenge will cover all facets of build, testing, and deployment, including configuration management, source code control, release planning, auditing, compliance, integration, build automation, and more. You will also learn advanced techniques such as in-production monitoring and tracing, dependency management, and the effective use of virtualization. \n",
      "\n",
      "Throughout the challenge, you will face common obstacles to rapid release and learn pragmatic solutions to overcome them. You will focus on powerful opportunities for individual improvement, clearly and simply explaining skills and techniques so they can be used every day on real projects. \n",
      "\n",
      "By the end of the challenge, you will have the skills and knowledge to move from idea to release faster and deliver far more value, far more rapidly. Are you ready to Go Live? Let's get started!\n"
     ]
    }
   ],
   "source": [
    "prompt = f\"\"\"\n",
    "Your task is to generate a mission in  friendly, enthusiastic, gamified\n",
    " style based on the book\n",
    "{book_name} by {author_name}, expanding the information delimited by triple quotes:\n",
    "\n",
    "\\\"\\\"\\\"{book_summary}\\\"\\\"\\\"\n",
    "\n",
    "in the following format, delimited by triple backticks:\n",
    "\n",
    "\\`\\`\\`\n",
    "Book: {book_name}\n",
    "Author: {author_name}\n",
    "\n",
    "Mission: \n",
    "\\`\\`\\`\n",
    "\"\"\"\n",
    "\n",
    "response = get_completion(prompt)\n",
    "print(response)\n",
    "\n"
   ]
  },
  {
   "cell_type": "code",
   "execution_count": null,
   "id": "38c60f6a",
   "metadata": {},
   "outputs": [],
   "source": []
  }
 ],
 "metadata": {
  "kernelspec": {
   "display_name": "Python 3 (ipykernel)",
   "language": "python",
   "name": "python3"
  },
  "language_info": {
   "codemirror_mode": {
    "name": "ipython",
    "version": 3
   },
   "file_extension": ".py",
   "mimetype": "text/x-python",
   "name": "python",
   "nbconvert_exporter": "python",
   "pygments_lexer": "ipython3",
   "version": "3.10.9"
  }
 },
 "nbformat": 4,
 "nbformat_minor": 5
}
